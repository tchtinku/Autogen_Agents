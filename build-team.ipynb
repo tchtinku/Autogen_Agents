{
 "cells": [
  {
   "cell_type": "markdown",
   "metadata": {},
   "source": [
    "### Build dream team: Perform Research with Multi-Agent Group Chat\n",
    "###### AutoGen provides a general conversation pattern called group chat, which involves more than two agents. The core idea of group chat is that all agents contribute to a single conversation thread and share the same context. This is useful for tasks that require collaboration among multiple agents.\n",
    "\n",
    "### Requirements\n",
    "###### AutoGen requires Python>=3.8"
   ]
  },
  {
   "cell_type": "code",
   "execution_count": null,
   "metadata": {
    "vscode": {
     "languageId": "plaintext"
    }
   },
   "outputs": [],
   "source": [
    "%pip install pyautogen"
   ]
  },
  {
   "cell_type": "markdown",
   "metadata": {},
   "source": [
    "#### Set your API Endpoint\n",
    "\n",
    "###### The config_list_from_json function loads a list of configurations from an environment variable or a json file."
   ]
  },
  {
   "cell_type": "code",
   "execution_count": null,
   "metadata": {
    "vscode": {
     "languageId": "plaintext"
    }
   },
   "outputs": [],
   "source": [
    "from autogen.agentchat import UserProxyAgent,AssistantAgent,GroupChat,GroupChatManager\n",
    "from autogen.oai.openai_utils import config_list_from_json\n",
    "import warnings\n",
    "warnings.filterwarnings('ignore')\n",
    "config_list_gpt4 = config_list_from_json(\n",
    "    \"OAI_CONFIG_LIST.json\",\n",
    "    filter_dict = {\n",
    "        \"model\": [\"gpt-4o\"], # in this example we used gpt4 omni\n",
    "    }\n",
    ")"
   ]
  },
  {
   "cell_type": "markdown",
   "metadata": {},
   "source": [
    "###### It first looks for environment variable \"OAI_CONFIG_LIST\" which needs to be a valid json string. If that variable is not found, it then looks for a json file named \"OAI_CONFIG_LIST\". It filters the configs by models (you can filter by other keys as well).\n",
    "\n",
    "###### You can set the value of config_list in any way you prefer.\n",
    "\n",
    "#### Construct Agents"
   ]
  },
  {
   "cell_type": "code",
   "execution_count": null,
   "metadata": {
    "vscode": {
     "languageId": "plaintext"
    }
   },
   "outputs": [],
   "source": [
    "gpt4_config = {\n",
    "    \"cache_seed\": 42,   # change the cache_seed for different trials\n",
    "    \"temperature\": 0,\n",
    "    \"config_list\": config_list_gpt4,\n",
    "    \"timeout\": 120\n",
    "}"
   ]
  },
  {
   "cell_type": "markdown",
   "metadata": {},
   "source": [
    "###### Let's build our team, this code is setting up a system of agents using the autogen library. The agents include a human admin, an AI Developer, a scientist, a planner, an executor, and a quality assurance agent. Each agent is configured with a name, a role, and specific behaviors or responsibilities."
   ]
  },
  {
   "cell_type": "code",
   "execution_count": null,
   "metadata": {
    "vscode": {
     "languageId": "plaintext"
    }
   },
   "outputs": [],
   "source": [
    "# User Proxy Agent\n",
    "user_proxy = UserProxyAgent(\n",
    "    name=\"Admin\",\n",
    "    human_input_mode=\"ALWAYS\",\n",
    "    system_message=\"1. A human admin. 2. Interact with the team. 3. Plan execution needs to be approved by this Admin.\",  \n",
    "    code_execution_config=False,\n",
    "    llm_config=gpt4_config,\n",
    "    description=\"\"\"Call this Agent if:   \n",
    "        You need guidance.\n",
    "        The program is not working as expected.\n",
    "        You need api key                  \n",
    "        DO NOT CALL THIS AGENT IF:  \n",
    "        You need to execute the code.\"\"\",  \n",
    ")\n",
    "\n",
    "# Assistant Agent - Developer\n",
    "developer = AssistantAgent(\n",
    "    name=\"Developer\",\n",
    "    llm_config=gpt4_config,\n",
    "    system_message=\"\"\"You are an AI developer. You follow an approved plan, follow these guidelines: \n",
    "    1. You write python/shell code to solve tasks. \n",
    "    2. Wrap the code in a code block that specifies the script type.   \n",
    "    3. The user can't modify your code. So do not suggest incomplete code which requires others to modify.   \n",
    "    4. You should print the specific code you would like the executor to run.\n",
    "    5. Don't include multiple code blocks in one response.   \n",
    "    6. If you need to import libraries, use ```bash pip install module_name```, please send a code block that installs these libraries and then send the script with the full implementation code \n",
    "    7. Check the execution result returned by the executor,  If the result indicates there is an error, fix the error and output the code again  \n",
    "    8. Do not show appreciation in your responses, say only what is necessary.    \n",
    "    9. If the error can't be fixed or if the task is not solved even after the code is executed successfully, analyze the problem, revisit your assumption, collect additional info you need, and think of a different approach to try.\n",
    "    \"\"\",  \n",
    "    description=\"\"\"Call this Agent if:   \n",
    "        You need to write code.                  \n",
    "        DO NOT CALL THIS AGENT IF:  \n",
    "        You need to execute the code.\"\"\",  \n",
    ")\n",
    "\n",
    "# Assistant Agent - Planner\n",
    "planner = AssistantAgent(\n",
    "    name=\"Planner\",  #2. The research should be executed with code\n",
    "    system_message=\"\"\"You are an AI Planner,  follow these guidelines: \n",
    "    1. Your plan should include 5 steps, you should provide a detailed plan to solve the task.\n",
    "    2. Post project review isn't needed. \n",
    "    3. Revise the plan based on feedback from admin and quality_assurance.   \n",
    "    4. The plan should include the various team members,  explain which step is performed by whom, for instance: the Developer should write code, the Executor should execute code, important do not include the admin in the tasks e.g ask the admin to research.  \n",
    "    5. Do not show appreciation in your responses, say only what is necessary.  \n",
    "    6. The final message should include an accurate answer to the user request\n",
    "    \"\"\",  \n",
    "    llm_config=gpt4_config,\n",
    "    description=\"\"\"Call this Agent if:   \n",
    "        You need to build a plan.                  \n",
    "        DO NOT CALL THIS AGENT IF:  \n",
    "        You need to execute the code.\"\"\", \n",
    ")\n",
    "\n",
    "# User Proxy Agent - Executor\n",
    "executor = UserProxyAgent(\n",
    "    name = \"Executor\",\n",
    "    system_message = \"1. You are the code executer. 2. Execute the code written by the developer and report the result.3. you should read the developer request and execute the required code\",  \n",
    "    human_input_mode = \"NEVER\",\n",
    "    code_execution_config = {\n",
    "        \"last_n_messages\": 20,\n",
    "        \"work_dir\": \"dream\",\n",
    "        \"use_docker\": True,\n",
    "    },\n",
    "    description = \"\"\"Call this Agent if:   \n",
    "        You need to execute the code written by the developer.  \n",
    "        You need to execute the last script.  \n",
    "        You have an import issue.  \n",
    "        DO NOT CALL THIS AGENT IF:  \n",
    "        You need to modify code\"\"\",\n",
    ")\n",
    "quality_assurance = AssistantAgent(\n",
    "    name = \"Quality_assurance\",\n",
    "    system_message=\"\"\"You are an AI Quality Assurance. Follow these instructions:\n",
    "      1. Double check the plan, \n",
    "      2. if there's a bug or error suggest a resolution\n",
    "      3. If the task is not solved, analyze the problem, revisit your assumption, collect additional info you need, and think of a different approach.\"\"\",\n",
    "    llm_config = gpt4_config\n",
    ")"
   ]
  },
  {
   "cell_type": "markdown",
   "metadata": {},
   "source": [
    "###### Group chat is a powerful conversation pattern, but it can be hard to control if the number of participating agents is large. AutoGen provides a way to constrain the selection of the next speaker by using the allowed_or_disallowed_speaker_transitions argument of the GroupChat class."
   ]
  },
  {
   "cell_type": "code",
   "execution_count": null,
   "metadata": {
    "vscode": {
     "languageId": "plaintext"
    }
   },
   "outputs": [],
   "source": [
    "allowed_transitions = {\n",
    "    user_proxy: [ planner,quality_assurance],\n",
    "    planner: [ user_proxy, developer, quality_assurance],\n",
    "    developer: [executor,quality_assurance, user_proxy],\n",
    "    executor: [developer],\n",
    "    quality_assurance: [planner,developer,executer,user_proxy]\n",
    "}"
   ]
  },
  {
   "cell_type": "code",
   "execution_count": null,
   "metadata": {
    "vscode": {
     "languageId": "plaintext"
    }
   },
   "outputs": [],
   "source": [
    "system_message_manager=\"You are the manager of a research group your role is to manage the team and make sure the project is completed successfully.\"\n",
    "groupchat=GroupChat(\n",
    "    agents=\n",
    "    agents=[user_proxy, developer, planner, executor, quality_assurance],allowed_or_disallowed_speaker_transitions=allowed_transitions,\n",
    "    speaker_transitions_type=\"allowed\", messages=[], max_round=30, send_introductions=True\n",
    ")\n",
    "manager = GroupChatManager(groupchat=groupchat, llm_config=gpt4_config, system_message=system_message_manager)"
   ]
  },
  {
   "cell_type": "markdown",
   "metadata": {},
   "source": [
    "###### Sometimes it's a bit complicated to understand the relationship between the entities, here we print a graph representation of the code"
   ]
  },
  {
   "cell_type": "code",
   "execution_count": null,
   "metadata": {
    "vscode": {
     "languageId": "plaintext"
    }
   },
   "outputs": [],
   "source": [
    "import networkx as nx\n",
    "import matplotlib.pyplot as plt\n",
    "\n",
    "G = nx.DiGraph()\n",
    "\n",
    "# Add nodes\n",
    "G.add_nodes_from([agent.name for agent in groupchat.agents])\n",
    "\n",
    "# Add edges\n",
    "for key, value in allowed_transitions.items():\n",
    "    for agent in value:\n",
    "        G.add_edge(key.name, agent.name)\n",
    "\n",
    "# Set the figure size\n",
    "plt.figure(figsize=(12, 8))\n",
    "\n",
    "# Visualize\n",
    "pos = nx.spring_layout(G)  # For consistent positioning\n",
    "\n",
    "# Draw nodes and edges\n",
    "nx.draw_networkx_nodes(G, pos)\n",
    "nx.draw_networkx_edges(G, pos)\n",
    "\n",
    "# Draw labels below the nodes\n",
    "label_pos = {k: [v[0], v[1] - 0.1] for k, v in pos.items()}  # Shift labels below the nodes\n",
    "nx.draw_networkx_labels(G, label_pos, verticalalignment='top', font_color=\"darkgreen\")\n",
    "\n",
    "# Adding margins\n",
    "ax = plt.gca()\n",
    "ax.margins(0.1)  # Increase the margin value if needed\n",
    "\n",
    "\n",
    "# Adding a dynamic title\n",
    "total_transitions = sum(len(v) for v in allowed_transitions.values())\n",
    "title = f'Agent Interactions: {len(groupchat.agents)} Agents, {total_transitions} Potential Transitions'\n",
    "plt.title(title)\n",
    "\n",
    "plt.show()"
   ]
  },
  {
   "cell_type": "markdown",
   "metadata": {},
   "source": [
    "### Start Chat"
   ]
  },
  {
   "cell_type": "code",
   "execution_count": null,
   "metadata": {
    "vscode": {
     "languageId": "plaintext"
    }
   },
   "outputs": [],
   "source": [
    "task1=\"what are the 5 leading GitHub repositories on llm for the legal domain?\"\n",
    "chat_result=user_proxy.initiate_chat(\n",
    "    manager,\n",
    "    message=task1,\n",
    "    clear_history=True\n",
    ")"
   ]
  },
  {
   "cell_type": "code",
   "execution_count": null,
   "metadata": {
    "vscode": {
     "languageId": "plaintext"
    }
   },
   "outputs": [],
   "source": [
    "task2=\"find the 3 most popular articles on gen ai for legal domain in the last month based on bing search, create a  markdown table\"\n",
    "chat_result=user_proxy.initiate_chat(\n",
    "    manager,\n",
    "    message=task2,\n",
    "    clear_history=False\n",
    ")"
   ]
  },
  {
   "cell_type": "code",
   "execution_count": null,
   "metadata": {
    "vscode": {
     "languageId": "plaintext"
    }
   },
   "outputs": [],
   "source": [
    "task4=\"based on the previous resources(github, bing, serper), please summerize the current state of llm for legal, and suggest\n",
    "chat_result=user_proxy.initiate_chat(\n",
    "    manager,\n",
    "    message=task4,\n",
    "    clear_history=False\n",
    ")"
   ]
  },
  {
   "cell_type": "code",
   "execution_count": null,
   "metadata": {
    "vscode": {
     "languageId": "plaintext"
    }
   },
   "outputs": [],
   "source": [
    "import pprint\n",
    "pprint.pprint(chat_result.cost)\n",
    "pprint.pprint(chat_result.summary)\n",
    "pprint.pprint(chat_result.chat_history)"
   ]
  },
  {
   "cell_type": "markdown",
   "metadata": {},
   "source": [
    "###### can reset the agents:"
   ]
  },
  {
   "cell_type": "code",
   "execution_count": null,
   "metadata": {
    "vscode": {
     "languageId": "plaintext"
    }
   },
   "outputs": [],
   "source": [
    "for agent in groupchat.agents:\n",
    "    agent.reset()"
   ]
  }
 ],
 "metadata": {
  "language_info": {
   "name": "python"
  }
 },
 "nbformat": 4,
 "nbformat_minor": 2
}
